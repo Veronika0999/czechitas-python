{
 "cells": [
  {
   "cell_type": "code",
   "execution_count": null,
   "metadata": {},
   "outputs": [],
   "source": [
    "import pandas"
   ]
  },
  {
   "cell_type": "code",
   "execution_count": null,
   "metadata": {},
   "outputs": [],
   "source": [
    "#Načti data pomocí metody pandas.read_csv(). Nastav oddělovač na znak středníku. Využij parametr sep\n",
    "adopce_zvirat = pandas.read_csv('adopce-zvirat.csv', sep=\";\") \n",
    "adopce_zvirat"
   ]
  },
  {
   "cell_type": "code",
   "execution_count": null,
   "metadata": {},
   "outputs": [],
   "source": [
    "#Počet řádků a slopců\n",
    "adopce_zvirat.shape"
   ]
  },
  {
   "cell_type": "code",
   "execution_count": null,
   "metadata": {},
   "outputs": [],
   "source": [
    "#Názvy sloupců\n",
    "adopce_zvirat.columns"
   ]
  },
  {
   "cell_type": "code",
   "execution_count": null,
   "metadata": {},
   "outputs": [],
   "source": [
    "#Zvíře na záznamu s indexem 34\n",
    "adopce_zvirat.iloc[34]"
   ]
  },
  {
   "cell_type": "code",
   "execution_count": null,
   "metadata": {},
   "outputs": [],
   "source": [
    "#Nejdražší zvíře k adopci\n",
    "\n",
    "nejdrazsi_zvire = adopce_zvirat.sort_values('cena', ascending=False)\n",
    "nejdrazsi_zvire[['nazev_cz','cena']].iloc[0]"
   ]
  },
  {
   "cell_type": "code",
   "execution_count": null,
   "metadata": {},
   "outputs": [],
   "source": [
    "#Alfabeticky poslední zvíře - čj\n",
    "posledni_zvire = adopce_zvirat.sort_values('nazev_cz', ascending=False)\n",
    "posledni_zvire[['nazev_cz']]"
   ]
  },
  {
   "cell_type": "code",
   "execution_count": null,
   "metadata": {},
   "outputs": [],
   "source": [
    "#Alfabeticky poslední zvíře - aj\n",
    "posledni_zvire = adopce_zvirat.sort_values('nazev_en', ascending=False)\n",
    "posledni_zvire[['nazev_en']]"
   ]
  }
 ],
 "metadata": {
  "kernelspec": {
   "display_name": "Python 3",
   "language": "python",
   "name": "python3"
  },
  "language_info": {
   "codemirror_mode": {
    "name": "ipython",
    "version": 3
   },
   "file_extension": ".py",
   "mimetype": "text/x-python",
   "name": "python",
   "nbconvert_exporter": "python",
   "pygments_lexer": "ipython3",
   "version": "3.9.10"
  },
  "orig_nbformat": 4
 },
 "nbformat": 4,
 "nbformat_minor": 2
}
